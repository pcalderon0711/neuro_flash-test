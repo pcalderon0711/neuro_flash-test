{
 "cells": [
  {
   "cell_type": "code",
   "execution_count": 1,
   "metadata": {
    "collapsed": true
   },
   "outputs": [],
   "source": [
    "import numpy as np\n",
    "import pandas as pd\n",
    "import seaborn as sns\n",
    "import gensim\n",
    "import regex as re"
   ]
  },
  {
   "cell_type": "code",
   "execution_count": 2,
   "metadata": {
    "collapsed": true
   },
   "outputs": [],
   "source": [
    "%matplotlib inline"
   ]
  },
  {
   "cell_type": "markdown",
   "metadata": {},
   "source": [
    "## q1: weighted average in numpy\n",
    "\n",
    "- implement a weighted average calculation in pure numpy"
   ]
  },
  {
   "cell_type": "code",
   "execution_count": 3,
   "metadata": {
    "collapsed": true
   },
   "outputs": [],
   "source": [
    "def q1(values, weights):\n",
    "    \"\"\"Return the weighted average of values weighted by weights.\n",
    "    \n",
    "    Inputs:\n",
    "        values -> numpy array\n",
    "        weights -> numpy array\n",
    "    Returns:\n",
    "        weighted_average -> scalar\n",
    "    \"\"\"\n",
    "    return (values * weights).sum()"
   ]
  },
  {
   "cell_type": "code",
   "execution_count": 4,
   "metadata": {
    "collapsed": true
   },
   "outputs": [],
   "source": [
    "values, weights = np.array([0.3, 0.5, 0.3]), np.array([0.2, 0.6, 0.2])\n",
    "weighted_average = 0.42\n",
    "\n",
    "assert np.isclose(q1(values, weights), weighted_average)"
   ]
  },
  {
   "cell_type": "markdown",
   "metadata": {},
   "source": [
    "## q2: basic tokenizer\n",
    "\n",
    "- implement a basic tokenizer in pure python\n",
    "- it has to\n",
    "  - lowercase everything\n",
    "  - remove everything except the 26 standard letters in the English alphabet using a regular expression\n",
    "  - remove the defined stopwords\n",
    "  - lemmatize according to the given list of lemmas"
   ]
  },
  {
   "cell_type": "code",
   "execution_count": 5,
   "metadata": {
    "collapsed": true
   },
   "outputs": [],
   "source": [
    "def q2(text, stopwords, lemmas):\n",
    "    \"\"\"Return a list of tokens, remove non-alphabet-characters, remove stopwords, lemmatize.\n",
    "    \n",
    "    Inputs:\n",
    "        text -> string\n",
    "        stopwords -> string of whitespace separated stopwords\n",
    "        lemmas -> string of line and whitespace separated lemmas\n",
    "    Returns:\n",
    "        tokens -> list of tokens\n",
    "    \"\"\"    \n",
    "    # lowercase text, remove non-alphabet characters, and split on whitespace\n",
    "    alpha = re.sub(r'[^a-zA-Z ]', '', text.lower()).split()\n",
    "    \n",
    "    # define lemmatization dictionary\n",
    "    lemma_dict = dict(x.split() for x in lemmas.split('\\n'))\n",
    "    \n",
    "    # lemmatize alpha\n",
    "    lemmatized = [lemma_dict[x] if x in lemma_dict.keys() else x for x in alpha]\n",
    "    \n",
    "    # remove stopwords\n",
    "    stops_removed = [x for x in lemmatized if x not in stopwords.split()]\n",
    "    \n",
    "    return stops_removed"
   ]
  },
  {
   "cell_type": "code",
   "execution_count": 6,
   "metadata": {
    "collapsed": true
   },
   "outputs": [],
   "source": [
    "text = \"This is the greatest day. It is 27°C outside. It could not get better.\"\n",
    "stopwords = \"this be the not a it could\"\n",
    "lemmas = \"\"\"greatest great\n",
    "better good\n",
    "is be\"\"\"\n",
    "tokens = ['great', 'day', 'c', 'outside', 'get', 'good']\n",
    "\n",
    "assert q2(text, stopwords, lemmas) == tokens"
   ]
  },
  {
   "cell_type": "markdown",
   "metadata": {},
   "source": [
    "## q3: load the latest numberbatch word embedding model using gensim\n",
    "\n",
    "- download the latest numberbatch word embedding model at\n",
    "https://conceptnet.s3.amazonaws.com/downloads/2017/numberbatch/numberbatch-en-17.06.txt.gz\n",
    "\n",
    "- then import it using gensim"
   ]
  },
  {
   "cell_type": "code",
   "execution_count": 7,
   "metadata": {
    "collapsed": true
   },
   "outputs": [],
   "source": [
    "def q3(model_path):\n",
    "    \"\"\"Return numberbatch embedding model loaded using gensim.\n",
    "    \n",
    "    Inputs:\n",
    "        model_path -> path to the .txt format numberbatch embedding model\n",
    "    Returns:\n",
    "        model -> gensim embedding model\n",
    "    \"\"\"\n",
    "    return gensim.models.KeyedVectors.load_word2vec_format(model_path)"
   ]
  },
  {
   "cell_type": "code",
   "execution_count": 8,
   "metadata": {
    "collapsed": true
   },
   "outputs": [],
   "source": [
    "model = q3(\"numberbatch-en.txt\")"
   ]
  },
  {
   "cell_type": "code",
   "execution_count": 9,
   "metadata": {
    "collapsed": true
   },
   "outputs": [],
   "source": [
    "assert len(model.vocab) == 417194\n",
    "assert len(model['the']) == 300"
   ]
  },
  {
   "cell_type": "markdown",
   "metadata": {},
   "source": [
    "## q4: return a pandas dataframe with the 100 words and cosine similarity scores most closely related to the word 'innovation' in the model, also add a column with the cosine similarity score divided into quartiles\n",
    "\n",
    "- the df should have 3 columns\n",
    "1. 'word' containing the top 100 related words to 'innovation'\n",
    "2. 'score' containing the cosine similarity scores of the words\n",
    "3. 'score_quartile' containing the quartiles for the 'score' column\n",
    "    - labeling as ints 1-4 (1 is highest score quarter, 4 is lowest score quarter)"
   ]
  },
  {
   "cell_type": "code",
   "execution_count": 10,
   "metadata": {
    "collapsed": true
   },
   "outputs": [],
   "source": [
    "def q4(model):\n",
    "    \"\"\"Return scores_df with a 'quartile' column added, partitioning the scores into 4 quartiles.\n",
    "    \n",
    "    Inputs:\n",
    "        model -> the loaded numberbatch word embedding model\n",
    "    Returns:\n",
    "        df -> the pandas dataframe with the described 3 columns 'word', 'score', 'score_quartile'\n",
    "    \"\"\"    \n",
    "    # define Pandas df with 100 words most similar to innovation\n",
    "    scores_df = pd.DataFrame(model.most_similar('innovation', topn=100), columns = ['word', 'score'])\n",
    "    \n",
    "    # calculate quartile ranks\n",
    "    scores_df['score_quartile'] = pd.qcut(scores_df['score'], 4, labels = [4, 3, 2, 1]).astype(int)\n",
    "    \n",
    "    return scores_df"
   ]
  },
  {
   "cell_type": "code",
   "execution_count": 11,
   "metadata": {},
   "outputs": [
    {
     "name": "stderr",
     "output_type": "stream",
     "text": [
      "/Users/piocalderon/anaconda/lib/python3.6/site-packages/gensim/models/keyedvectors.py:932: RuntimeWarning: invalid value encountered in true_divide\n",
      "  self.vectors_norm = (self.vectors / sqrt((self.vectors ** 2).sum(-1))[..., newaxis]).astype(REAL)\n"
     ]
    }
   ],
   "source": [
    "q4_df = q4(model)\n",
    "\n",
    "assert list(q4_df['word'])[0] == 'innovationist'\n",
    "assert list(q4_df['word'])[-1] == 'tech_head'"
   ]
  },
  {
   "cell_type": "markdown",
   "metadata": {},
   "source": [
    "## q5: cosine similarity\n",
    "\n",
    "- implement a cosine similarity (i.e. bounded between -1 and 1) score function using only numpy"
   ]
  },
  {
   "cell_type": "code",
   "execution_count": 12,
   "metadata": {
    "collapsed": true
   },
   "outputs": [],
   "source": [
    "def q5(vec1, vec2):\n",
    "    \"\"\"Return cosine similarity between vec1 and vec2.\n",
    "    \n",
    "    Inputs:\n",
    "        vec1, vec2 -> 1d numpy arrays of same length\n",
    "    Returns:\n",
    "        cos_similarity -> cosine similarity between vec1 and vec2\n",
    "    \"\"\"   \n",
    "    cos_similarity = np.dot(vec1, vec2) / (np.linalg.norm(vec1) * np.linalg.norm(vec2))\n",
    "    \n",
    "    return cos_similarity"
   ]
  },
  {
   "cell_type": "code",
   "execution_count": 13,
   "metadata": {
    "collapsed": true
   },
   "outputs": [],
   "source": [
    "assert np.isclose(q5(model['innovation'], model['innovationist']), 0.92195)"
   ]
  },
  {
   "cell_type": "markdown",
   "metadata": {},
   "source": [
    "## q6: add a column and sort \n",
    "\n",
    "- to the returned df from q4, add a new column 'responsibility' scoring all the words in q4_df with their cosine similarity to the word 'responsible' in the model\n",
    "- use q5 as the cosine similarity function\n",
    "- sort by that new column in descending order\n",
    "- don't alter the original q4_df dataframe"
   ]
  },
  {
   "cell_type": "code",
   "execution_count": 14,
   "metadata": {
    "collapsed": true
   },
   "outputs": [],
   "source": [
    "def q6(df, model, cos_similarity):\n",
    "    \"\"\"Return a new df with the the new column as described and also sorted by that new column.\n",
    "    \n",
    "    Inputs:\n",
    "        df -> q4_df\n",
    "        model -> the loaded numberbatch word embedding model\n",
    "        cos_similarity -> function, the cos similarity function from q5\n",
    "    Returns:\n",
    "        df -> q4_df copy with new columns and sorted by that new column\n",
    "    \"\"\"\n",
    "    \n",
    "    df['responsibility'] = df['word'].map(lambda x: cos_similarity(model[x], model['responsibility']))\n",
    "    df = df.sort_values('responsibility', ascending = False)\n",
    "    \n",
    "    return df"
   ]
  },
  {
   "cell_type": "code",
   "execution_count": 15,
   "metadata": {
    "collapsed": true
   },
   "outputs": [],
   "source": [
    "q6_df = q6(q4_df, model, q5)\n",
    "\n",
    "assert list(q6_df['word'])[0] == 'initiative'\n",
    "assert np.isclose(list(q6_df['responsibility'])[0], 0.17459)"
   ]
  },
  {
   "cell_type": "markdown",
   "metadata": {},
   "source": [
    "## q7 groupby and bar plot\n",
    "\n",
    "- group q6_df by the 'score_quartile' column and based on that produce a bar plot that of the mean value of the 'responsibility' column in the 4 categories of the 'score_quartile'\n",
    "- (i.e. this will be a bar graph with 4 bars, x axis being the 'score_quartile' and y being the mean value of the 'responsibility' column)"
   ]
  },
  {
   "cell_type": "code",
   "execution_count": 16,
   "metadata": {},
   "outputs": [
    {
     "data": {
      "text/plain": [
       "<matplotlib.axes._subplots.AxesSubplot at 0x13d6ffc18>"
      ]
     },
     "execution_count": 16,
     "metadata": {},
     "output_type": "execute_result"
    },
    {
     "data": {
      "image/png": "[encoded data removed]",
      "text/plain": [
       "<matplotlib.figure.Figure at 0x110251e10>"
      ]
     },
     "metadata": {},
     "output_type": "display_data"
    }
   ],
   "source": [
    "q6_df.groupby('score_quartile')['responsibility'].mean().plot.bar()"
   ]
  },
  {
   "cell_type": "markdown",
   "metadata": {},
   "source": [
    "## q8 scatterplot and some optical improvements"
   ]
  },
  {
   "cell_type": "markdown",
   "metadata": {},
   "source": [
    "- produce a dot scatterplot of the columns 'score' (x axis) and 'responsibility' (y axis) from q6_df\n",
    "- scale the scatter dots by 10 times the value of column 'score_quartile' respectively\n",
    "- use seaborn to remove the right and top axis in the graph"
   ]
  },
  {
   "cell_type": "code",
   "execution_count": 19,
   "metadata": {},
   "outputs": [
    {
     "data": {
      "image/png": "[encoded data removed]",
      "text/plain": [
       "<matplotlib.figure.Figure at 0x143f3f240>"
      ]
     },
     "metadata": {},
     "output_type": "display_data"
    }
   ],
   "source": [
    "# Lower score_quartile -> Higher score -> Smaller circle\n",
    "q6_df.plot.scatter('score', 'responsibility', s = 10 * q6_df['score_quartile'])\n",
    "\n",
    "# Despining the right and top axes of the default seaborn theme doesn't do anything since it's already 'despined'\n",
    "# Let's reset the theme to Matplotlib's default theme first.\n",
    "sns.reset_orig()\n",
    "# Then we despine.\n",
    "sns.despine()"
   ]
  }
 ],
 "metadata": {
  "kernelspec": {
   "display_name": "Python 3",
   "language": "python",
   "name": "python3"
  },
  "language_info": {
   "codemirror_mode": {
    "name": "ipython",
    "version": 3
   },
   "file_extension": ".py",
   "mimetype": "text/x-python",
   "name": "python",
   "nbconvert_exporter": "python",
   "pygments_lexer": "ipython3",
   "version": "3.6.1"
  }
 },
 "nbformat": 4,
 "nbformat_minor": 2
}
